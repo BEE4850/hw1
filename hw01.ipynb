{
  "cells": [
    {
      "cell_type": "markdown",
      "id": "f97f1129-9c43-41d4-aa19-7898c499889f",
      "metadata": {},
      "source": [
        "# Homework 1: Thinking About Data\n",
        "\n",
        "BEE 4850/5850\n",
        "\n",
        "**Name**:\n",
        "\n",
        "**ID**:\n",
        "\n",
        "> **Due Date**\n",
        ">\n",
        "> Friday, 2/7/25, 9:00pm\n",
        "\n",
        "## Overview"
      ]
    },
    {
      "cell_type": "markdown",
      "id": "4aedd72b-da52-47fe-90d5-113f07d05deb",
      "metadata": {},
      "source": [
        "### Instructions\n",
        "\n",
        "The goal of this homework assignment is to introduce you to\n",
        "simulation-based data analysis.\n",
        "\n",
        "-   Problem 1 asks you to find an example of a spurious correlation.\n",
        "-   Problem 2 asks you to explore whether a difference between data\n",
        "    collected from two groups might be statistically meaningful or the\n",
        "    result of noise. This problem repeats the analysis from [Statistics\n",
        "    Without The Agonizing\n",
        "    Pain](https://www.youtube.com/watch?v=5Dnw46eC-0o) by John Rauser\n",
        "    (which is a neat watch!).\n",
        "-   Problem 3 asks you to explore the impacts of selection biases on\n",
        "    statistical relationships.\n",
        "-   Problem 4 asks you to evaluate an interview method for finding the\n",
        "    level of cheating on a test to determine whether cheating was\n",
        "    relatively high or low. This problem was adapted from [Bayesian\n",
        "    Methods for\n",
        "    Hackers](https://dataorigami.net/Probabilistic-Programming-and-Bayesian-Methods-for-Hackers/).\n",
        "-   Problem 5 (only required for students in BEE 5850) asks you to\n",
        "    propose several causal models for the same observational phenomenon."
      ]
    },
    {
      "cell_type": "markdown",
      "id": "410bc42a-e187-46a3-a7fd-ae4f5c41901d",
      "metadata": {},
      "source": [
        "### Load Environment\n",
        "\n",
        "The following code loads the environment and makes sure all needed\n",
        "packages are installed. This should be at the start of most Julia\n",
        "scripts."
      ]
    },
    {
      "cell_type": "code",
      "execution_count": 1,
      "id": "2",
      "metadata": {},
      "outputs": [],
      "source": [
        "import Pkg\n",
        "Pkg.activate(@__DIR__)\n",
        "Pkg.instantiate()"
      ]
    },
    {
      "cell_type": "markdown",
      "id": "e8ab23f9-9abc-4a8e-a654-93e28378276a",
      "metadata": {},
      "source": [
        "The following packages are included in the environment (to help you find\n",
        "other similar packages in other languages). The code below loads these\n",
        "packages for use in the subsequent notebook (the desired functionality\n",
        "for each package is commented next to the package)."
      ]
    },
    {
      "cell_type": "code",
      "execution_count": 1,
      "id": "4",
      "metadata": {},
      "outputs": [],
      "source": [
        "using Random # random number generation and seed-setting\n",
        "using DataFrames # tabular data structure\n",
        "using CSVFiles # reads/writes .csv files\n",
        "using Distributions # interface to work with probability distributions\n",
        "using Plots # plotting library\n",
        "using StatsBase # statistical quantities like mean, median, etc\n",
        "using StatsPlots # some additional statistical plotting tools"
      ]
    },
    {
      "cell_type": "markdown",
      "id": "ca628c5d-7e29-4b97-84c7-e1d84a222b97",
      "metadata": {},
      "source": [
        "## Problems\n",
        "\n",
        "### Scoring\n",
        "\n",
        "Each problem is worth 5 points."
      ]
    },
    {
      "cell_type": "markdown",
      "id": "9c814932-6e0e-40be-a977-e71ac45f52a1",
      "metadata": {},
      "source": [
        "### Problem 1\n",
        "\n",
        "Find an example of a spurious correlation (don’t just pull from\n",
        "[Spurious\n",
        "Correlations!](https://www.tylervigen.com/spurious-correlations)!).\n",
        "\n",
        "**In this problem**:\n",
        "\n",
        "-   Describe and illustrate the correlation;\n",
        "-   Explain why you think the correlation is spurious."
      ]
    },
    {
      "cell_type": "markdown",
      "id": "12c54829-3299-4eb6-8df9-bc778479be12",
      "metadata": {},
      "source": [
        "### Problem 2\n",
        "\n",
        "The underlying question we would like to address is: what is the\n",
        "influence of drinking beer on the likelihood of being bitten by\n",
        "mosquitoes? There is a mechanistic reason why this might occur:\n",
        "mosquitoes are attracted by changes in body temperature and released\n",
        "CO<sub>2</sub>, and it might be that drinking beer induces these\n",
        "changes. We’ll analyze this question using (synthetic) data which\n",
        "separates an experimental population into two groups, one which drank\n",
        "beer and the other which drank only water.\n",
        "\n",
        "First, we’ll load data for the number of bites reported by the\n",
        "participants who drank beer. This is in a comma-delimited file,\n",
        "`data/bites.csv` (which is grossly overkill for this assignment). Each\n",
        "row contains two columns: the group (`beer` and `water`) the person\n",
        "belonged to and the number of times that person was bitten.\n",
        "\n",
        "In Julia, we can do this using\n",
        "[`CSVFiles.jl`](https://github.com/queryverse/CSVFiles.jl), which will\n",
        "read in the `.csv` file into a\n",
        "[`DataFrame`](https://dataframes.juliadata.org/stable/), which is a\n",
        "typical data structure for tabular data (and equivalent to a Pandas\n",
        "`DataFrame` in Python or a `dataframe` in R)."
      ]
    },
    {
      "cell_type": "code",
      "execution_count": 1,
      "id": "6",
      "metadata": {},
      "outputs": [],
      "source": [
        "data = DataFrame(load(\"data/bites.csv\")) # load data into DataFrame\n",
        "\n",
        "# print data variable (semi-colon suppresses echoed output in Julia, which in this case would duplicate the output)\n",
        "@show data;"
      ]
    },
    {
      "cell_type": "markdown",
      "id": "48b5a080-34da-404c-8882-16021987ec58",
      "metadata": {},
      "source": [
        "How can we tell if there’s a meaningful difference between the two\n",
        "groups? Naively, we might just look at the differences in group means."
      ]
    },
    {
      "cell_type": "markdown",
      "id": "98a1ef38-d832-4fe5-9f52-187a25d74b65",
      "metadata": {},
      "source": [
        "> **Broadcasting**\n",
        ">\n",
        "> The subsetting operations in the below code use `.==`, which\n",
        "> “broadcasts” the element-wise comparison operator == across every\n",
        "> element. The decimal in front of `==` indicates that this should be\n",
        "> used element-wise (every pair of elements compared for equality,\n",
        "> returning a vector of `true` or `false` values); otherwise Julia would\n",
        "> try to just check for vector equality (returning a single `true` or\n",
        "> `false` value).\n",
        ">\n",
        "> Broadcasting is a very specific feature of Julia, so this syntax would\n",
        "> look different in a different programming language."
      ]
    },
    {
      "cell_type": "code",
      "execution_count": 1,
      "id": "8",
      "metadata": {},
      "outputs": [
        {
          "name": "stdout",
          "output_type": "stream",
          "text": [
            "observed_difference = 4.37777777777778"
          ]
        }
      ],
      "source": [
        "# split data into vectors of bites for each group\n",
        "beer = data[data.group .== \"beer\", :bites]\n",
        "water = data[data.group .== \"water\", :bites]\n",
        "\n",
        "observed_difference = mean(beer) - mean(water)\n",
        "@show observed_difference;"
      ]
    },
    {
      "cell_type": "markdown",
      "id": "03a2bb30-4399-432d-bf51-fd6def752753",
      "metadata": {},
      "source": [
        "This tells us that, on average, the participants in the experiment who\n",
        "drank beer were bitten approximately 4.4 more times than the\n",
        "participants who drank water! Does that seem like a meaningful\n",
        "difference, or could it be the result of random chance?\n",
        "\n",
        "We will use a *simulation* approach to address this question, as\n",
        "follows.\n",
        "\n",
        "-   Suppose someone is skeptical of the idea that drinking beer could\n",
        "    result in a higher attraction to mosquitoes, and therefore more\n",
        "    bites. To this skeptic, the two datasets are really just different\n",
        "    samples from the same underlying population of people getting bitten\n",
        "    by mosquitoes, rather than two different populations with different\n",
        "    propensities for being bitten. This is the skeptic’s *hypothesis*,\n",
        "    versus our hypothesis that drinking beer changes body temperature\n",
        "    and CO<sub>2</sub> release sufficiently to attract mosquitoes.\n",
        "-   If the skeptic’s hypothesis is true, then we can “shuffle” all of\n",
        "    the measurements between the two datasets and re-compute the\n",
        "    differences in the means. After repeating this procedure a large\n",
        "    number of times, we would obtain a distribution of the differences\n",
        "    in means under the assumption that the skeptic’s hypothesis is true.\n",
        "-   Comparing our experimentally-observed difference to this\n",
        "    distribution, we can then evaluate the consistency of the skeptic’s\n",
        "    hypothesis with the experimental results."
      ]
    },
    {
      "cell_type": "markdown",
      "id": "8b1aa744-93a1-406a-b282-8347e31bc3ee",
      "metadata": {},
      "source": [
        "> **Why Do We Call This A Simulation-Based Approach?**\n",
        ">\n",
        "> This is a simulation-based approach because the “shuffling” is a\n",
        "> non-parametric way of generating new samples from the underlying\n",
        "> distribution (more on this later!).\n",
        ">\n",
        "> The alternative to this approach is to use a statistical test, such as\n",
        "> a [t-test](https://en.wikipedia.org/wiki/Student%27s_t-test), which\n",
        "> [may have other\n",
        "> assumptions](https://en.wikipedia.org/wiki/Student%27s_t-test#Assumptions)\n",
        "> which may not be appropriate for this setting, particularly given the\n",
        "> seemingly small sample sizes."
      ]
    },
    {
      "cell_type": "markdown",
      "id": "a2a47619-aacc-4c57-9d06-fcd6ed26db10",
      "metadata": {},
      "source": [
        "**In this problem**:\n",
        "\n",
        "-   Conduct the above procedure to generate 50,000 simulated datasets\n",
        "    under the skeptic’s hypothesis.\n",
        "-   Plot a histogram of the results and add a dashed vertical line to\n",
        "    show the experimental difference (if you are using Julia, feel free\n",
        "    to look at the [Making Plots with Julia\n",
        "    tutorial](https://viveks.me/simulation-data-analysis/tutorials/julia-plots.html)\n",
        "    on the class website).\n",
        "-   Draw conclusions about the plausibility of the skeptic’s hypothesis\n",
        "    that there is no difference between groups. Feel free to use any\n",
        "    quantitative or qualitative assessments of your simulations and the\n",
        "    observed difference."
      ]
    },
    {
      "cell_type": "markdown",
      "id": "d445d3f9-8503-4e83-ae82-bbddbca01c67",
      "metadata": {},
      "source": [
        "### Problem 3\n",
        "\n",
        "A scientific funding agency receives 200 proposals in response to a\n",
        "call. The panel is asked to evaluate each proposal on two criteria:\n",
        "scientific rigor and potential impact (or “newsworthiness”). After\n",
        "standardizing each of these scores to independently follow a standard\n",
        "normal distribution ($\\text{Normal}(0, 1)$), the two standardized scores\n",
        "are summed to get the total score for the proposal. Based on these total\n",
        "scores, the top 10% of the proposals are selected for funding.\n",
        "\n",
        "A researcher who is studying the relationship between rigor and impact\n",
        "has used data on the funded proposals to claim high-impact proposals are\n",
        "necessarily less rigorous, and indeed found a statistically significant\n",
        "negative correlation between the rigor and impact scores for the funded\n",
        "proposals. You are more skeptical and believe this effect is an artifact\n",
        "from the selection process, which would make the claim a bit ironic.\n",
        "\n",
        "**In this problem**:\n",
        "\n",
        "-   Create a generative model for the grant-selection procedure under\n",
        "    the null assumption of no correlation between rigor and impact. You\n",
        "    can sample rigor and impact scores directly from\n",
        "    $\\text{Normal}(0, 1)$.\n",
        "-   Using 1,000 simulations, compare the distribution of correlations\n",
        "    between rigor and impact for the funded proposals to the general\n",
        "    proposal population.\n",
        "-   Explain why, when conditioning on selection for funding, there might\n",
        "    be a negative correlation between rigor and impact even when none\n",
        "    generally exists."
      ]
    },
    {
      "cell_type": "markdown",
      "id": "ad03e9fe-c634-4d68-acb3-bc0adf282dae",
      "metadata": {},
      "source": [
        "> **Selection-Distortion Effects**\n",
        ">\n",
        "> These **selection-distortion effects** are pretty common in\n",
        "> observational data, going back to [work by Dawes in the 1970s on the\n",
        "> lack of predictive ability of admission variables on student\n",
        "> success](https://www.science.org/doi/abs/10.1126/science.187.4178.721)\n",
        "> and including [studies claiming to identify a causal fingerprint of\n",
        "> genes on\n",
        "> outcomes](https://www.nature.com/articles/s41598-021-89020-x).\n",
        ">\n",
        "> This is, of course, just one example of how not thinking carefully\n",
        "> about data-generating processes can fundamentally contaminate\n",
        "> statistical analyses, emphasizing that **data do not have meaning\n",
        "> absent a model for how they were generated**."
      ]
    },
    {
      "cell_type": "markdown",
      "id": "17fce97c-8ee5-4812-be67-65745889aa62",
      "metadata": {},
      "source": [
        "### Problem 4\n",
        "\n",
        "You are trying to detect if how prevalent cheating was on an exam. You\n",
        "are skeptical of the efficacy of just asking the students if they\n",
        "cheated. You are also concerned about privacy — your goal is not to\n",
        "punish individual students, but to see if there are systemic problems\n",
        "that need to be addressed. Someone proposes the following interview\n",
        "procedure, which the class agrees to participate in:\n",
        "\n",
        "> Each student flips a fair coin, with the results hidden from the\n",
        "> interviewer. The student answers honestly if the coin comes up heads.\n",
        "> Otherwise, if the coin comes up tails, the student flips the coin\n",
        "> again, and answers “I did cheat” if heads, and “I did not cheat”, if\n",
        "> tails.\n",
        "\n",
        "We have a hypothesis that cheating was not prevalent, and the proportion\n",
        "of cheaters was no more than 5% of the class; in other words, we expect\n",
        "5 “true” cheaters out of a class of 100 students. Our TA is more jaded\n",
        "and thinks that cheating was more rampant, and that 30% of the class\n",
        "cheated. The proposed interview procedure is noisy: the interviewer does\n",
        "not know if an admission means that the student cheated, or the result\n",
        "of a heads. However, it gives us a data-generating process that we can\n",
        "model and analyze for consistency with our hypothesis and that of the\n",
        "TA.\n",
        "\n",
        "**In this problem**:\n",
        "\n",
        "-   Derive and code a simulation model for the above interview procedure\n",
        "    given the “true” probability of cheating $p$.\n",
        "-   Simulate your model (for a class of 100 students) 50,000 times under\n",
        "    a null hypothesis of no cheating, your hypothesis of 5% cheating,\n",
        "    the TA’s hypothesis of 30% cheating, and plot the resulting\n",
        "    datasets.\n",
        "-   If you received 31 “Yes, I cheated” responses while interviewing\n",
        "    your class, what could you conclude?\n",
        "-   How useful do you think the interview procedure is to identify\n",
        "    systemic cheating? What changes to the design might you make?"
      ]
    },
    {
      "cell_type": "markdown",
      "id": "c37b526a-4411-4b4b-905b-c76e978b4ce0",
      "metadata": {},
      "source": [
        "### Problem 5\n",
        "\n",
        "**This problem is only required for students in BEE 5850**.\n",
        "\n",
        "Adjusting for inflation, there has been an increase in tropical cyclone\n",
        "damages on the U.S. Atlantic coast between 1900 and 2022 (see\n",
        "<a href=\"#fig-tc\" class=\"quarto-xref\">Figure 1</a>)."
      ]
    },
    {
      "cell_type": "markdown",
      "id": "9faa2098-b62e-4e80-88b1-f29a5b7a2790",
      "metadata": {},
      "source": [
        "<figure id=\"fig-tc\">\n",
        "<img src=\"figures/normalized-TC-damages.jpg\" />\n",
        "<figcaption>Figure 1: Change in tropical cyclone damages in U.S.\n",
        "Atlantic coastal counties from 1900–2022, aggregated by pentad and\n",
        "normalized to 2018 U.S. dollars. The red line shows an exponential trend\n",
        "of 1.06%/yr growth in damages. Reproduced from <a\n",
        "href=\"https://doi.org/10.1175/JAMC-D-24-0047.1\">Willoughby, Hernandez,\n",
        "&amp; Pinnock (2024)</a>.</figcaption>\n",
        "</figure>"
      ]
    },
    {
      "cell_type": "markdown",
      "id": "236f0aec-38db-473c-95ea-9ff10a58c97d",
      "metadata": {},
      "source": [
        "**In this problem**:\n",
        "\n",
        "-   Describe two different mechanisms by which tropical cyclone damages\n",
        "    in coastal counties might have increased over this period.\n",
        "-   How might you propose to examine the relative strengths of these\n",
        "    mechanisms? You don’t need to actually do this (this is indeed a\n",
        "    somewhat thorny debate in the literature), but think about potential\n",
        "    modeling and data approaches."
      ]
    },
    {
      "cell_type": "markdown",
      "id": "d420d5fb-b322-4e7b-bcb6-a3962db8d94d",
      "metadata": {},
      "source": [
        "## References"
      ]
    }
  ],
  "metadata": {
    "kernel_info": {
      "name": "julia"
    },
    "kernelspec": {
      "display_name": "Julia",
      "language": "julia",
      "name": "julia"
    },
    "language_info": {
      "codemirror_mode": "julia",
      "name": "julia",
      "version": "1.10.4"
    }
  },
  "nbformat": 4,
  "nbformat_minor": 5
}
